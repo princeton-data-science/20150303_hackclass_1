{
 "metadata": {
  "name": "",
  "signature": "sha256:1c8c6e64b28464043b5f6220213eff2b724b9c5e833c8d573fd8101e50f5283a"
 },
 "nbformat": 3,
 "nbformat_minor": 0,
 "worksheets": [
  {
   "cells": [
    {
     "cell_type": "markdown",
     "metadata": {},
     "source": [
      "<br>\n",
      "<div style=\"text-align: center; font-family: Georgia\">\n",
      "<span style=\"font-size: 18pt\"> The Good, the Bad, and the Ugly:<br><img src=\"http://upload.wikimedia.org/wikipedia/en/thumb/2/2d/Certified_Fresh.svg/150px-Certified_Fresh.svg.png\"><br>Sentiment Analysis on Rotten Tomatoes Movie Reviews</span><br>\n",
      "<br>\n",
      "    Wednesday, March 4, 2015<br>\n",
      "    Hack Class: Introduction to Data Science, Part 1<br>\n",
      "    Princeton Data Science / E-Club<br>\n",
      "    \n",
      "</div>"
     ]
    },
    {
     "cell_type": "markdown",
     "metadata": {},
     "source": [
      "Welcome to the first data science Hack Class, co-organized by Princeton Data Science and the Princeton Entrepreneurship Club! We're absolutely thrilled you could make it. If you're a regular Hack Classes attendee, we'll have more of these in the future, so keep your eyes peeled!\n",
      "\n",
      "Our scientific question today is: given text snippets from Rotten Tomatoes movie reviews, can you predict whether they are \"fresh\" (favorable) or \"rotten\" (unfavorable)? For example, it's easy to see that the sentiment of the sentence \"Frozen was a cool and refreshing movie\" is favorable, while it's not so easy to ascertain the sentiment of the sentence \"Tangled just had so many plot twists.\"\n",
      "\n",
      "Fortunately, <a href=\"https://www.kaggle.com\">Kaggle</a> (a platform for machine learning contests) provided a large <em>labelled</em> dataset a while back, which consists of these kinds of sentences tagged with a sentiment value ranging from 0 (rotten) to 4 (fresh). The idea is, if we train a statistical model to this dataset, we can predict the sentiments of new sentences we haven't seen before.\n",
      "\n",
      "Today, we'll run through the basics of pulling in a dataset, exploring it, and applying some basic machine learning to answer interesting questions."
     ]
    },
    {
     "cell_type": "markdown",
     "metadata": {},
     "source": [
      "First, we will use <a href=\"www.numpy.org\">NumPy</a> and <a href=\"pandas.pydata.org\">Pandas</a>. The first is Python's standard library for matrix and numerical calculations (think of it as providing arrays as in Java), and the second provides \"dataframes\" (if you're familiar with R, the same thing), spreadsheet-like objects for quickly manipulating data. Finally, we use matplotlib, the standard plotting library for Python."
     ]
    },
    {
     "cell_type": "code",
     "collapsed": false,
     "input": [
      "import numpy as np\n",
      "import pandas as pd\n",
      "import matplotlib.pyplot as plt\n",
      "\n",
      "%matplotlib inline"
     ],
     "language": "python",
     "metadata": {},
     "outputs": [],
     "prompt_number": 1
    },
    {
     "cell_type": "code",
     "collapsed": false,
     "input": [
      "# Tab-delimited data: rows are separated by newlines, and columns are separated by tabs on each line.\n",
      "all_data = pd.read_table(\"data.tsv\")\n",
      "all_data.shape"
     ],
     "language": "python",
     "metadata": {},
     "outputs": [
      {
       "metadata": {},
       "output_type": "pyout",
       "prompt_number": 2,
       "text": [
        "(156060, 4)"
       ]
      }
     ],
     "prompt_number": 2
    },
    {
     "cell_type": "markdown",
     "metadata": {},
     "source": [
      "Although we imported our data, later when we fit a model, we don't want to fit it to all the data: we want to split up the data into a \"train\" set and a \"test\" set. We fit the model to the \"train\" set, and evaluate how it did on the unseen \"test\" set. This lets us build a model that can predict unseen data well.\n",
      "\n",
      "A coursework analogy is that the train set represents your homework problems (you train your skills on those), and the test set represents the exams (you see how your skills actually do on those exams). "
     ]
    },
    {
     "cell_type": "code",
     "collapsed": false,
     "input": [
      "train_test_split = np.shape(all_data)[0] * 4 / 5 # 80%\n",
      "train_data = all_data[:train_test_split]\n",
      "test_data = all_data[train_test_split:]"
     ],
     "language": "python",
     "metadata": {},
     "outputs": [],
     "prompt_number": 3
    },
    {
     "cell_type": "code",
     "collapsed": false,
     "input": [
      "train_data.head(10) # see first 10 rows of the trainig data."
     ],
     "language": "python",
     "metadata": {},
     "outputs": [
      {
       "html": [
        "<div style=\"max-height:1000px;max-width:1500px;overflow:auto;\">\n",
        "<table border=\"1\" class=\"dataframe\">\n",
        "  <thead>\n",
        "    <tr style=\"text-align: right;\">\n",
        "      <th></th>\n",
        "      <th>PhraseId</th>\n",
        "      <th>SentenceId</th>\n",
        "      <th>Phrase</th>\n",
        "      <th>Sentiment</th>\n",
        "    </tr>\n",
        "  </thead>\n",
        "  <tbody>\n",
        "    <tr>\n",
        "      <th>0</th>\n",
        "      <td>  1</td>\n",
        "      <td> 1</td>\n",
        "      <td> A series of escapades demonstrating the adage ...</td>\n",
        "      <td> 1</td>\n",
        "    </tr>\n",
        "    <tr>\n",
        "      <th>1</th>\n",
        "      <td>  2</td>\n",
        "      <td> 1</td>\n",
        "      <td> A series of escapades demonstrating the adage ...</td>\n",
        "      <td> 2</td>\n",
        "    </tr>\n",
        "    <tr>\n",
        "      <th>2</th>\n",
        "      <td>  3</td>\n",
        "      <td> 1</td>\n",
        "      <td>                                          A series</td>\n",
        "      <td> 2</td>\n",
        "    </tr>\n",
        "    <tr>\n",
        "      <th>3</th>\n",
        "      <td>  4</td>\n",
        "      <td> 1</td>\n",
        "      <td>                                                 A</td>\n",
        "      <td> 2</td>\n",
        "    </tr>\n",
        "    <tr>\n",
        "      <th>4</th>\n",
        "      <td>  5</td>\n",
        "      <td> 1</td>\n",
        "      <td>                                            series</td>\n",
        "      <td> 2</td>\n",
        "    </tr>\n",
        "    <tr>\n",
        "      <th>5</th>\n",
        "      <td>  6</td>\n",
        "      <td> 1</td>\n",
        "      <td> of escapades demonstrating the adage that what...</td>\n",
        "      <td> 2</td>\n",
        "    </tr>\n",
        "    <tr>\n",
        "      <th>6</th>\n",
        "      <td>  7</td>\n",
        "      <td> 1</td>\n",
        "      <td>                                                of</td>\n",
        "      <td> 2</td>\n",
        "    </tr>\n",
        "    <tr>\n",
        "      <th>7</th>\n",
        "      <td>  8</td>\n",
        "      <td> 1</td>\n",
        "      <td> escapades demonstrating the adage that what is...</td>\n",
        "      <td> 2</td>\n",
        "    </tr>\n",
        "    <tr>\n",
        "      <th>8</th>\n",
        "      <td>  9</td>\n",
        "      <td> 1</td>\n",
        "      <td>                                         escapades</td>\n",
        "      <td> 2</td>\n",
        "    </tr>\n",
        "    <tr>\n",
        "      <th>9</th>\n",
        "      <td> 10</td>\n",
        "      <td> 1</td>\n",
        "      <td> demonstrating the adage that what is good for ...</td>\n",
        "      <td> 2</td>\n",
        "    </tr>\n",
        "  </tbody>\n",
        "</table>\n",
        "<p>10 rows \u00d7 4 columns</p>\n",
        "</div>"
       ],
       "metadata": {},
       "output_type": "pyout",
       "prompt_number": 4,
       "text": [
        "   PhraseId  SentenceId                                             Phrase  \\\n",
        "0         1           1  A series of escapades demonstrating the adage ...   \n",
        "1         2           1  A series of escapades demonstrating the adage ...   \n",
        "2         3           1                                           A series   \n",
        "3         4           1                                                  A   \n",
        "4         5           1                                             series   \n",
        "5         6           1  of escapades demonstrating the adage that what...   \n",
        "6         7           1                                                 of   \n",
        "7         8           1  escapades demonstrating the adage that what is...   \n",
        "8         9           1                                          escapades   \n",
        "9        10           1  demonstrating the adage that what is good for ...   \n",
        "\n",
        "   Sentiment  \n",
        "0          1  \n",
        "1          2  \n",
        "2          2  \n",
        "3          2  \n",
        "4          2  \n",
        "5          2  \n",
        "6          2  \n",
        "7          2  \n",
        "8          2  \n",
        "9          2  \n",
        "\n",
        "[10 rows x 4 columns]"
       ]
      }
     ],
     "prompt_number": 4
    },
    {
     "cell_type": "code",
     "collapsed": false,
     "input": [
      "# What are the possible sentiment values?\n",
      "np.unique(train_data[\"Sentiment\"])"
     ],
     "language": "python",
     "metadata": {},
     "outputs": [
      {
       "metadata": {},
       "output_type": "pyout",
       "prompt_number": 5,
       "text": [
        "array([0, 1, 2, 3, 4], dtype=int64)"
       ]
      }
     ],
     "prompt_number": 5
    },
    {
     "cell_type": "code",
     "collapsed": false,
     "input": [
      "# Simple visualization of the frequency of sentiment values, in the training data.\n",
      "plt.hist(train_data['Sentiment'])\n",
      "plt.title(\"Frequency of movie sentiments\")\n",
      "plt.xlabel(\"Sentiment\")\n",
      "plt.ylabel(\"Number of movies reviews phrases\")"
     ],
     "language": "python",
     "metadata": {},
     "outputs": [
      {
       "metadata": {},
       "output_type": "pyout",
       "prompt_number": 6,
       "text": [
        "<matplotlib.text.Text at 0xc1857ac>"
       ]
      },
      {
       "metadata": {},
       "output_type": "display_data",
       "png": "[encoded data removed]",
       "text": [
        "<matplotlib.figure.Figure at 0xc182bac>"
       ]
      }
     ],
     "prompt_number": 6
    },
    {
     "cell_type": "code",
     "collapsed": false,
     "input": [
      "# Note that we want to classify these phrases as either \"fresh\" (favorable)\n",
      "# or \"rotten\" (unfavorable). However, our sentiment values are 0, 1, 2, 3, or 4.\n",
      "# Therefore, we define a threshold to say that a phrase is \"fresh\" if its \n",
      "# sentiment is 3 or 4, and \"rotten\" if its sentiment is 0, 1, or 2.\n",
      "# We map \"fresh\" to the value 1, and \"rotten\" to the value 0. This lets\n",
      "# us define how \"fresh\" or \"rotten\" a phrase is on the scale 0 to 1.\n",
      "train_data[\"Sentiment\"] = map(int, pd.Series(train_data[\"Sentiment\"] >= 3))\n",
      "test_data[\"Sentiment\"] = map(int, pd.Series(test_data[\"Sentiment\"] >= 3))"
     ],
     "language": "python",
     "metadata": {},
     "outputs": [],
     "prompt_number": 7
    },
    {
     "cell_type": "code",
     "collapsed": false,
     "input": [
      "train_data.head() # sentiment values should all be 0 or 1 now"
     ],
     "language": "python",
     "metadata": {},
     "outputs": [
      {
       "html": [
        "<div style=\"max-height:1000px;max-width:1500px;overflow:auto;\">\n",
        "<table border=\"1\" class=\"dataframe\">\n",
        "  <thead>\n",
        "    <tr style=\"text-align: right;\">\n",
        "      <th></th>\n",
        "      <th>PhraseId</th>\n",
        "      <th>SentenceId</th>\n",
        "      <th>Phrase</th>\n",
        "      <th>Sentiment</th>\n",
        "    </tr>\n",
        "  </thead>\n",
        "  <tbody>\n",
        "    <tr>\n",
        "      <th>0</th>\n",
        "      <td> 1</td>\n",
        "      <td> 1</td>\n",
        "      <td> A series of escapades demonstrating the adage ...</td>\n",
        "      <td> 0</td>\n",
        "    </tr>\n",
        "    <tr>\n",
        "      <th>1</th>\n",
        "      <td> 2</td>\n",
        "      <td> 1</td>\n",
        "      <td> A series of escapades demonstrating the adage ...</td>\n",
        "      <td> 0</td>\n",
        "    </tr>\n",
        "    <tr>\n",
        "      <th>2</th>\n",
        "      <td> 3</td>\n",
        "      <td> 1</td>\n",
        "      <td>                                          A series</td>\n",
        "      <td> 0</td>\n",
        "    </tr>\n",
        "    <tr>\n",
        "      <th>3</th>\n",
        "      <td> 4</td>\n",
        "      <td> 1</td>\n",
        "      <td>                                                 A</td>\n",
        "      <td> 0</td>\n",
        "    </tr>\n",
        "    <tr>\n",
        "      <th>4</th>\n",
        "      <td> 5</td>\n",
        "      <td> 1</td>\n",
        "      <td>                                            series</td>\n",
        "      <td> 0</td>\n",
        "    </tr>\n",
        "  </tbody>\n",
        "</table>\n",
        "<p>5 rows \u00d7 4 columns</p>\n",
        "</div>"
       ],
       "metadata": {},
       "output_type": "pyout",
       "prompt_number": 8,
       "text": [
        "   PhraseId  SentenceId                                             Phrase  \\\n",
        "0         1           1  A series of escapades demonstrating the adage ...   \n",
        "1         2           1  A series of escapades demonstrating the adage ...   \n",
        "2         3           1                                           A series   \n",
        "3         4           1                                                  A   \n",
        "4         5           1                                             series   \n",
        "\n",
        "   Sentiment  \n",
        "0          0  \n",
        "1          0  \n",
        "2          0  \n",
        "3          0  \n",
        "4          0  \n",
        "\n",
        "[5 rows x 4 columns]"
       ]
      }
     ],
     "prompt_number": 8
    },
    {
     "cell_type": "code",
     "collapsed": false,
     "input": [
      "# (1) Find most frequency words.\n",
      "from collections import defaultdict\n",
      "import string # to remove punctuation\n",
      "text_freqs = defaultdict(int) # frequencies of each unique word, or \"token\"\n",
      "text_locs = defaultdict(set) # index(ices) where each word appears so we can lookup its sentiment later\n",
      "for px, phrase in enumerate(train_data[\"Phrase\"]):\n",
      "    curr_text = phrase.translate(string.maketrans(\"\",\"\"), string.punctuation).split()\n",
      "    for word in curr_text:\n",
      "        text_freqs[word] += 1\n",
      "        text_locs[word].add(px)\n",
      "text_freqs = sorted(text_freqs.iteritems(),key=lambda (k,v): v,reverse=True)"
     ],
     "language": "python",
     "metadata": {},
     "outputs": [],
     "prompt_number": 9
    },
    {
     "cell_type": "code",
     "collapsed": false,
     "input": [
      "# Print the most frequently occuring words\n",
      "print \"Most frequent words: \"\n",
      "for (word, freq) in text_freqs[0:5]:\n",
      "    print word, freq"
     ],
     "language": "python",
     "metadata": {},
     "outputs": [
      {
       "output_type": "stream",
       "stream": "stdout",
       "text": [
        "Most frequent words: \n",
        "the 36589\n",
        "a 26364\n",
        "of 25268\n",
        "and 25127\n",
        "to 17634\n"
       ]
      }
     ],
     "prompt_number": 10
    },
    {
     "cell_type": "code",
     "collapsed": false,
     "input": [
      "# (2) Get average sentiments for these top words # all nums should be in [0, 1]\n",
      "print \"Word, average sentiment (from 0 to 1)\"\n",
      "for (word, freq) in text_freqs[0:5]:\n",
      "    avg_sentiment = np.mean(train_data[\"Sentiment\"][list(text_locs[word])])\n",
      "    print \"%s, %.4f\" % (word, avg_sentiment)"
     ],
     "language": "python",
     "metadata": {},
     "outputs": [
      {
       "output_type": "stream",
       "stream": "stdout",
       "text": [
        "Word, average sentiment (from 0 to 1)\n",
        "the, 0.3127"
       ]
      },
      {
       "output_type": "stream",
       "stream": "stdout",
       "text": [
        "\n",
        "a, 0.3650"
       ]
      },
      {
       "output_type": "stream",
       "stream": "stdout",
       "text": [
        "\n",
        "of, 0.3389\n",
        "and, 0.4048"
       ]
      },
      {
       "output_type": "stream",
       "stream": "stdout",
       "text": [
        "\n",
        "to, 0.3059\n"
       ]
      }
     ],
     "prompt_number": 11
    },
    {
     "cell_type": "markdown",
     "metadata": {},
     "source": [
      "Now that we've done some exploration / visualization, let's see if we can build a machine learning model! Again, our goal in machine learning is to build a model that (1) first learns the patterns in the training data, like which words or phrases are usually associated with positive or negative sentiments, and (2) then given new data (testing data), can predict whether those phrases are positive or negative.\n",
      "\n",
      "Of course, note that our most frequent words were common \"stop words\" like the, a, of, and, etc. These words don't tell us much about each movie review. Instead of counting the words naively, we use something called TF-IDF (term frequency - inverse document frequency): this weights words by not only how often they appear, but also their importance. So \"the\" would have a lower score - exactly what we want, since we don't want a movie review to be \"fresh\" simply because it has a ton of \"thes\" in it.\n",
      "\n",
      "For this task, we use something called a <em>vectorizer</em>. It basically takes all the words in a dataset (here, our training data), and builds a massive matrix/table of their frequencies. Then, we can use these frequencies as the \"features\" (or predictors) for our sentiment values.\n",
      "\n",
      "For (an overly simplified example), a vectorizer would say that the sentence \"Frozen was a cool wonderful movie\" has 1 appearance of both \"cool\" and \"wonderful\". If this sentence was associated with the sentiment 1 (fresh), then our model will learn to associate these <em>features</em> \"cool\" and \"wonderful\" with that fresh sentiment."
     ]
    },
    {
     "cell_type": "code",
     "collapsed": false,
     "input": [
      "from sklearn.feature_extraction.text import TfidfVectorizer\n",
      "trigram_vectorizer = TfidfVectorizer(ngram_range=(1,3), min_df=1)\n",
      "train_counts_matrix = trigram_vectorizer.fit_transform(list(train_data[\"Phrase\"]))"
     ],
     "language": "python",
     "metadata": {},
     "outputs": [],
     "prompt_number": 12
    },
    {
     "cell_type": "code",
     "collapsed": false,
     "input": [
      "train_counts_matrix.shape, train_data.shape"
     ],
     "language": "python",
     "metadata": {},
     "outputs": [
      {
       "metadata": {},
       "output_type": "pyout",
       "prompt_number": 13,
       "text": [
        "((124848, 165631), (124848, 4))"
       ]
      }
     ],
     "prompt_number": 13
    },
    {
     "cell_type": "code",
     "collapsed": false,
     "input": [
      "train_x, train_y = train_counts_matrix, np.asarray(train_data[\"Sentiment\"]).reshape(-1,)\n",
      "train_x.shape, train_y.shape"
     ],
     "language": "python",
     "metadata": {},
     "outputs": [
      {
       "metadata": {},
       "output_type": "pyout",
       "prompt_number": 14,
       "text": [
        "((124848, 165631), (124848,))"
       ]
      }
     ],
     "prompt_number": 14
    },
    {
     "cell_type": "code",
     "collapsed": false,
     "input": [
      "# repeat for test data\n",
      "# note that there is no \"fit\" because you don't want it to fit to suddenly adapt to\n",
      "# new words in the new test data, ONLY want to base analysis on old (training) vocab\n",
      "test_counts_matrix = trigram_vectorizer.transform(list(test_data[\"Phrase\"]))"
     ],
     "language": "python",
     "metadata": {},
     "outputs": [],
     "prompt_number": 15
    },
    {
     "cell_type": "code",
     "collapsed": false,
     "input": [
      "test_counts_matrix.shape, test_data.shape"
     ],
     "language": "python",
     "metadata": {},
     "outputs": [
      {
       "metadata": {},
       "output_type": "pyout",
       "prompt_number": 16,
       "text": [
        "((31212, 165631), (31212, 4))"
       ]
      }
     ],
     "prompt_number": 16
    },
    {
     "cell_type": "code",
     "collapsed": false,
     "input": [
      "test_x, test_y = test_counts_matrix, np.asarray(test_data[\"Sentiment\"]).reshape(-1,)\n",
      "test_x.shape, test_y.shape"
     ],
     "language": "python",
     "metadata": {},
     "outputs": [
      {
       "metadata": {},
       "output_type": "pyout",
       "prompt_number": 17,
       "text": [
        "((31212, 165631), (31212,))"
       ]
      }
     ],
     "prompt_number": 17
    },
    {
     "cell_type": "code",
     "collapsed": false,
     "input": [
      "from sklearn.svm import SVC\n",
      "from sklearn.grid_search import GridSearchCV\n",
      "from sklearn.naive_bayes import BernoulliNB\n",
      "\n",
      "classifier = BernoulliNB() # naive bayes model is basically based on the relative frequencies of words in the doc\n",
      "# classifier = SVC(kernel='linear', C=1.0)\n",
      "\n",
      "\"\"\" OPTIONAL: use grid search cross-validation instead \"\"\"\n",
      "# svm_parameters = {'C': [1, 5, 10]}\n",
      "# classifier = GridSearchCV(SVC(), svm_parameters)\n",
      "\n",
      "classifier.fit(train_x, train_y) # while waiting, go over SVM tutorial"
     ],
     "language": "python",
     "metadata": {},
     "outputs": [
      {
       "metadata": {},
       "output_type": "pyout",
       "prompt_number": 18,
       "text": [
        "BernoulliNB(alpha=1.0, binarize=0.0, class_prior=None, fit_prior=True)"
       ]
      }
     ],
     "prompt_number": 18
    },
    {
     "cell_type": "code",
     "collapsed": false,
     "input": [
      "# see how it did on training set\n",
      "train_preds = classifier.predict(train_x)\n",
      "print \"Training accuracy:\", np.mean(train_preds==train_y) # average accuracy"
     ],
     "language": "python",
     "metadata": {},
     "outputs": [
      {
       "output_type": "stream",
       "stream": "stdout",
       "text": [
        "Training accuracy: 0.846541394336\n"
       ]
      }
     ],
     "prompt_number": 19
    },
    {
     "cell_type": "code",
     "collapsed": false,
     "input": [
      "# test on test data (holdout)\n",
      "# Normally, a machine learning model will do well on the training set and do a little worse on the\n",
      "# test set -- this is normal (since the model has never seen the test set before!)\n",
      "test_preds = classifier.predict(test_x)\n",
      "print \"Testing accuracy:\", np.mean(test_preds==test_y) # test set accuracy"
     ],
     "language": "python",
     "metadata": {},
     "outputs": [
      {
       "output_type": "stream",
       "stream": "stdout",
       "text": [
        "Testing accuracy: 0.767973856209\n"
       ]
      }
     ],
     "prompt_number": 20
    },
    {
     "cell_type": "markdown",
     "metadata": {},
     "source": [
      "Your turn! Provide a sentence of your own, in the variable \"test_sent\". Then, the vectorizer turns it into a matrix of word frequencies, which we then feed to our machine learning model, and it will either say it's \"fresh\" or \"rotten\"!"
     ]
    },
    {
     "cell_type": "code",
     "collapsed": false,
     "input": [
      "test_sent = [\"I think Frozen was a great and wonderful movie, brimming with brilliance\"] # one datapoint\n",
      "test_sent_feats = trigram_vectorizer.transform(test_sent)\n",
      "test_sent_prediction = int(classifier.predict(test_sent_feats))\n",
      "if test_sent_prediction == 0:\n",
      "    print \"Rotten\"\n",
      "else:\n",
      "    print \"Fresh\""
     ],
     "language": "python",
     "metadata": {},
     "outputs": [
      {
       "output_type": "stream",
       "stream": "stdout",
       "text": [
        "Fresh\n"
       ]
      }
     ],
     "prompt_number": 21
    },
    {
     "cell_type": "code",
     "collapsed": false,
     "input": [],
     "language": "python",
     "metadata": {},
     "outputs": []
    }
   ],
   "metadata": {}
  }
 ]
}